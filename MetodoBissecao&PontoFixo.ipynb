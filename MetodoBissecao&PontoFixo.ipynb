{
  "nbformat": 4,
  "nbformat_minor": 0,
  "metadata": {
    "colab": {
      "provenance": []
    },
    "kernelspec": {
      "name": "python3",
      "display_name": "Python 3"
    },
    "language_info": {
      "name": "python"
    }
  },
  "cells": [
    {
      "cell_type": "markdown",
      "source": [
        "Código do método da bisseção:"
      ],
      "metadata": {
        "id": "kPoBBtTAvnHB"
      }
    },
    {
      "cell_type": "code",
      "source": [
        "def bissecao(f, a, b, erro, max_iter):\n",
        "    iteracao = 0\n",
        "    while iteracao < max_iter:\n",
        "        c = (a + b) / 2\n",
        "        print(f\"Iteração {iteracao} | x = {c}\")\n",
        "        if f(c) == 0 or abs(b - a) < erro:\n",
        "            print(f\"Raiz encontrada após {iteracao} iterações: x = {c}\")\n",
        "            return c\n",
        "        if f(a) * f(c) < 0:\n",
        "            b = c\n",
        "        else:\n",
        "            a = c\n",
        "        iteracao += 1\n",
        "    print(\"A raiz não foi encontrada nas iterações especificadas.\")\n",
        "    return None\n",
        "\n"
      ],
      "metadata": {
        "id": "DdjyDwkPv5Ej"
      },
      "execution_count": 11,
      "outputs": []
    },
    {
      "cell_type": "code",
      "source": [
        "def f(x):\n",
        "    return x ** 2 - 4\n",
        "\n",
        "resultado = bissecao(f, 0, 3, 0.0001, 100)\n"
      ],
      "metadata": {
        "colab": {
          "base_uri": "https://localhost:8080/"
        },
        "id": "5ew3ozjM6xwn",
        "outputId": "ba0e1559-2a9f-4529-b6f1-5d3e5fc5ac93"
      },
      "execution_count": 13,
      "outputs": [
        {
          "output_type": "stream",
          "name": "stdout",
          "text": [
            "Iteração 0 | x = 1.5\n",
            "Iteração 1 | x = 2.25\n",
            "Iteração 2 | x = 1.875\n",
            "Iteração 3 | x = 2.0625\n",
            "Iteração 4 | x = 1.96875\n",
            "Iteração 5 | x = 2.015625\n",
            "Iteração 6 | x = 1.9921875\n",
            "Iteração 7 | x = 2.00390625\n",
            "Iteração 8 | x = 1.998046875\n",
            "Iteração 9 | x = 2.0009765625\n",
            "Iteração 10 | x = 1.99951171875\n",
            "Iteração 11 | x = 2.000244140625\n",
            "Iteração 12 | x = 1.9998779296875\n",
            "Iteração 13 | x = 2.00006103515625\n",
            "Iteração 14 | x = 1.999969482421875\n",
            "Iteração 15 | x = 2.0000152587890625\n",
            "Raiz encontrada após 15 iterações: x = 2.0000152587890625\n"
          ]
        }
      ]
    },
    {
      "cell_type": "markdown",
      "source": [
        "Código do método de Ponto Fixo:"
      ],
      "metadata": {
        "id": "s_ON4TRc8XcY"
      }
    },
    {
      "cell_type": "code",
      "source": [
        "def ponto_fixo(g, x0, erro, max_iter):\n",
        "    x = x0\n",
        "    for i in range(1, max_iter + 1):  # Começa com 1 para contar a primeira iteração\n",
        "        x_novo = g(x)\n",
        "        print(f\"Iteração {i}: x = {x_novo}\")\n",
        "        if abs(x_novo) > 1e100:  # Adiciona uma verificação para evitar OverflowError\n",
        "            print(\"A sequência divergiu.\")\n",
        "            return None, i\n",
        "        if abs(x_novo - x) < erro:\n",
        "            print(\"Raiz encontrada.\")\n",
        "            return x_novo, i\n",
        "        x = x_novo\n",
        "    print(\"A raiz não foi encontrada nas iterações especificadas.\")\n",
        "    return None, max_iter\n",
        "\n"
      ],
      "metadata": {
        "id": "6KzO2rA28bf0"
      },
      "execution_count": 22,
      "outputs": []
    },
    {
      "cell_type": "code",
      "source": [
        "def g(x):\n",
        "    return x**2 - 2\n",
        "\n",
        "raiz, iteracoes = ponto_fixo(g, 0, 0.0001, 20)\n"
      ],
      "metadata": {
        "colab": {
          "base_uri": "https://localhost:8080/"
        },
        "id": "CIM_4LEx976L",
        "outputId": "7cb3c700-4fc2-4c8f-a766-0cd867929d27"
      },
      "execution_count": 24,
      "outputs": [
        {
          "output_type": "stream",
          "name": "stdout",
          "text": [
            "Iteração 1: x = -2\n",
            "Iteração 2: x = 2\n",
            "Iteração 3: x = 2\n",
            "Raiz encontrada.\n"
          ]
        }
      ]
    }
  ]
}